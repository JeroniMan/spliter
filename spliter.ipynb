{
 "cells": [
  {
   "cell_type": "markdown",
   "id": "1ac31549-55b4-435f-97bc-48136d878e4b",
   "metadata": {
    "tags": []
   },
   "source": [
    "## Концепт сплитовалки трафика"
   ]
  },
  {
   "cell_type": "code",
   "execution_count": 1,
   "id": "367489cd-fd07-4663-841a-9f8719ad4533",
   "metadata": {},
   "outputs": [],
   "source": [
    "import numpy as np"
   ]
  },
  {
   "cell_type": "markdown",
   "id": "6b2dfc14-57af-4cd5-821b-7ec1be1315a1",
   "metadata": {},
   "source": [
    "#### У нас есть какие-то идентификаторы, по которым мы собираемся делать сплит."
   ]
  },
  {
   "cell_type": "code",
   "execution_count": 380,
   "id": "644ba3da-0d1b-4d15-bb72-f3f2cb0d22ae",
   "metadata": {},
   "outputs": [],
   "source": [
    "device_id = [np.random.randint(1,999999999) for i in range(1000000)]"
   ]
  },
  {
   "cell_type": "markdown",
   "id": "de3c202b-cbcf-451a-b6e8-d07951446101",
   "metadata": {},
   "source": [
    "#### Также у нас есть конфиги экспериментов - (название, соль, доля от общего трафика, объем эксперимента), и каскад фичей - фичи, которые используются по дефолту или в рамках групп в экспериментах."
   ]
  },
  {
   "cell_type": "code",
   "execution_count": 392,
   "id": "5cc284d1-4781-4a6d-929e-cf7b8c6197f0",
   "metadata": {},
   "outputs": [],
   "source": [
    "cash_ids = {1:{'base_group':1, 'experiments':{}}}\n",
    "\n",
    "\n",
    "config = {'experiments':\n",
    "              {1:{'name': 'Эксперимент 1',\n",
    "                  'description': 'Провести эксперимент разбиения трафика на 3 группы, вероятность попадания участника в данных эксперимент 50%, общий объем эксперимента 1000',\n",
    "                  'salt': 42,\n",
    "                  'p': 0.1,\n",
    "                  'size': 30000,\n",
    "                  'actual_size':0,\n",
    "                  'status':'active',\n",
    "                  'groups': [{'group1':{'description':'Группа 1 - свойства = Синяя кнопка, 3 меню, размер страницы 100%'}},\n",
    "                             {'group2':{'description':'Группа 2 - свойства = Красная кнопка, 2 меню, размер страницы 90%'}},\n",
    "                             {'group3':{'description':'Группа 3 - свойства = Зеленая кнопка, 1 меню, размер страницы 120%'}},\n",
    "                            ],\n",
    "                 'cross_relates':None,\n",
    "                 'params':{'base_group':[13,22,45,47,52,54,57,60,73,99]}}\n",
    "              }}\n",
    "\n",
    "features_cascade = {'default':{'backgroung_color':'white', 'buttom_color':'red', 'text_color':'black','size':100, 'price':50, 'delta':10},\n",
    "                    1:[{'group1':{'backgroung_color':'yellow','text_color':'red'}},\n",
    "                       {'group2':{'backgroung_color':'light-blue','text_color':'white'}},\n",
    "                       {'group3':{'backgroung_color':'light-breen','text_color':'brown'}}]\n",
    "                   }"
   ]
  },
  {
   "cell_type": "code",
   "execution_count": 393,
   "id": "eafdd58c-0e75-4113-9fce-e6294fbd76e6",
   "metadata": {},
   "outputs": [],
   "source": [
    "class super_service:\n",
    "    def __init__(self, config = {}, cash_ids = {}, features_cascade = {}):\n",
    "        self.config = config\n",
    "        self.cash_ids = cash_ids\n",
    "        self.features_cascade = features_cascade\n",
    "        \n",
    "    def calculate_group(self, id_):\n",
    "        data = {id_:{'base_group':id_%100,'experiments':{}}}\n",
    "                \n",
    "        if id_%100 < 10:\n",
    "            self.save_cash(data)\n",
    "            return data\n",
    "        else:\n",
    "            data[id_]['experiments'] = self.include_in_experiment(id_)\n",
    "            self.save_cash(data)\n",
    "            return data\n",
    "            \n",
    "    def include_in_experiment(self, id_):\n",
    "        base_group = id_%100\n",
    "        tmp = {}\n",
    "        for k,v in self.config['experiments'].items():\n",
    "            if base_group in v['params']['base_group'] and v['actual_size']<v['size']:\n",
    "                group_exp = (id_+v['salt'])%len(v['groups'])\n",
    "                tmp[k] = {list(v['groups'][group_exp])[0]}\n",
    "                self.config['experiments'][k]['actual_size'] +=1\n",
    "            else:\n",
    "                tmp[k] = {}\n",
    "        return tmp\n",
    "            \n",
    "    def save_cash(self, data):\n",
    "        '''data = dict('id_':'group')'''\n",
    "        self.cash_ids.update(data)\n",
    "        \n",
    "    def get_group(self, id_):\n",
    "        if id_ in self.cash_ids.keys():\n",
    "            return {id_:self.cash_ids[id_]}\n",
    "        else:\n",
    "            return self.calculate_group(id_)\n",
    "        \n",
    "        \n",
    "    def add_new_experiment(self, config_new_exp):\n",
    "        new_id = max(self.config['experiments'].keys())+1 if self.config else 1\n",
    "        config_new_exp['params']['base_group'] = []\n",
    "        \n",
    "        if config_new_exp['cross_relates']:\n",
    "            cross_relates = self.config['experiments'][config_new_exp['cross_relates']]['params']['base_group']\n",
    "            new_p = 1-((len(cross_relates) + 10)/100)\n",
    "        else:\n",
    "            cross_relates = []\n",
    "            new_p = 0.9        \n",
    "        \n",
    "        if config_new_exp['p'] > 0.9:\n",
    "            raise ValueError('Доля не может быть больше 90%, т.к. 10% мы отложили')\n",
    "        elif config_new_exp['p']>new_p:\n",
    "            raise ValueError(f'Доля не может быть больше {int(new_p*100)}%, т.к. 10% мы отложили, а также есть пересечения с другими экспериментами')\n",
    "        \n",
    "        while len(config_new_exp['params']['base_group']) < int(config_new_exp['p']*100):\n",
    "            tmp_group = np.random.randint(0,100)\n",
    "            if tmp_group not in config_new_exp['params']['base_group'] and tmp_group not in cross_relates and tmp_group>9:\n",
    "                config_new_exp['params']['base_group'].append(tmp_group)\n",
    "        \n",
    "        self.config['experiments'][new_id] = config_new_exp"
   ]
  },
  {
   "cell_type": "code",
   "execution_count": 394,
   "id": "044847e2-243f-423a-a2ac-b7f626e5748e",
   "metadata": {},
   "outputs": [],
   "source": [
    "ss = super_service(config, cash_ids, features_cascade)"
   ]
  },
  {
   "cell_type": "code",
   "execution_count": 395,
   "id": "e003de1e-020d-4fa1-8b79-127504d8db85",
   "metadata": {},
   "outputs": [],
   "source": [
    "ss.add_new_experiment({'name': 'Эксперимент 2',\n",
    "                  'description': 'Второй эксперимент, не связанный с первым',\n",
    "                  'salt': 61,\n",
    "                  'p': 0.3,\n",
    "                  'size': 200000,\n",
    "                  'actual_size':0,\n",
    "                  'status':'active',\n",
    "                  'groups': [{'group1':{'description':'Группа 1 - свойства = Синяя кнопка'}},\n",
    "                             {'group2':{'description':'Группа 2 - свойства = Красная кнопка'}},\n",
    "                            ],\n",
    "                 'cross_relates':None,\n",
    "                 'params':{}})"
   ]
  },
  {
   "cell_type": "code",
   "execution_count": 396,
   "id": "87f82bad-792a-4007-8301-9b8b25b7737a",
   "metadata": {},
   "outputs": [],
   "source": [
    "ss.add_new_experiment({'name': 'Эксперимент 2',\n",
    "                  'description': 'Третий эксперимент, пересекающийся с первым',\n",
    "                  'salt': 40,\n",
    "                  'p': 0.3,\n",
    "                  'size': 200000,\n",
    "                  'actual_size':0,\n",
    "                  'status':'active',\n",
    "                  'groups': [{'group1':{'description':'Группа 1 - свойства = Размер страницы 60%'}},\n",
    "                             {'group2':{'description':'Группа 2 - свойства = Размер страницы 120%'}},\n",
    "                            ],\n",
    "                 'cross_relates':1,\n",
    "                 'params':{}})"
   ]
  },
  {
   "cell_type": "code",
   "execution_count": 400,
   "id": "24f4b94c-6768-4c2c-93a6-0958e19e82e6",
   "metadata": {},
   "outputs": [],
   "source": [
    "for i in device_id:\n",
    "    ss.get_group(i)"
   ]
  },
  {
   "cell_type": "code",
   "execution_count": 401,
   "id": "eb5de549-08d7-4603-b36b-e4b3c2b6d9f1",
   "metadata": {},
   "outputs": [],
   "source": [
    "import pandas as pd"
   ]
  },
  {
   "cell_type": "code",
   "execution_count": 402,
   "id": "95910c7a-a37d-4db7-afa8-4a9272df3f73",
   "metadata": {
    "tags": []
   },
   "outputs": [],
   "source": [
    "df = pd.DataFrame(ss.cash_ids.values())\n",
    "df['experiments'] = [str(i) for i in df['experiments']]"
   ]
  },
  {
   "cell_type": "code",
   "execution_count": 391,
   "id": "2949fc0d-6982-400b-8ba8-9d2ecd7d1626",
   "metadata": {},
   "outputs": [
    {
     "data": {
      "text/html": [
       "<div>\n",
       "<style scoped>\n",
       "    .dataframe tbody tr th:only-of-type {\n",
       "        vertical-align: middle;\n",
       "    }\n",
       "\n",
       "    .dataframe tbody tr th {\n",
       "        vertical-align: top;\n",
       "    }\n",
       "\n",
       "    .dataframe thead th {\n",
       "        text-align: right;\n",
       "    }\n",
       "</style>\n",
       "<table border=\"1\" class=\"dataframe\">\n",
       "  <thead>\n",
       "    <tr style=\"text-align: right;\">\n",
       "      <th></th>\n",
       "      <th>base_group</th>\n",
       "    </tr>\n",
       "    <tr>\n",
       "      <th>experiments</th>\n",
       "      <th></th>\n",
       "    </tr>\n",
       "  </thead>\n",
       "  <tbody>\n",
       "    <tr>\n",
       "      <th>{1: {'group1'}, 2: {'group1'}, 3: {}}</th>\n",
       "      <td>2953</td>\n",
       "    </tr>\n",
       "    <tr>\n",
       "      <th>{1: {'group1'}, 2: {'group2'}, 3: {}}</th>\n",
       "      <td>992</td>\n",
       "    </tr>\n",
       "    <tr>\n",
       "      <th>{1: {'group1'}, 2: {}, 3: {}}</th>\n",
       "      <td>5963</td>\n",
       "    </tr>\n",
       "    <tr>\n",
       "      <th>{1: {'group2'}, 2: {'group1'}, 3: {}}</th>\n",
       "      <td>2974</td>\n",
       "    </tr>\n",
       "    <tr>\n",
       "      <th>{1: {'group2'}, 2: {'group2'}, 3: {}}</th>\n",
       "      <td>1001</td>\n",
       "    </tr>\n",
       "    <tr>\n",
       "      <th>{1: {'group2'}, 2: {}, 3: {}}</th>\n",
       "      <td>6038</td>\n",
       "    </tr>\n",
       "    <tr>\n",
       "      <th>{1: {'group3'}, 2: {'group1'}, 3: {}}</th>\n",
       "      <td>3042</td>\n",
       "    </tr>\n",
       "    <tr>\n",
       "      <th>{1: {'group3'}, 2: {'group2'}, 3: {}}</th>\n",
       "      <td>1002</td>\n",
       "    </tr>\n",
       "    <tr>\n",
       "      <th>{1: {'group3'}, 2: {}, 3: {}}</th>\n",
       "      <td>6035</td>\n",
       "    </tr>\n",
       "    <tr>\n",
       "      <th>{1: {}, 2: {'group1'}, 3: {'group2'}}</th>\n",
       "      <td>40064</td>\n",
       "    </tr>\n",
       "    <tr>\n",
       "      <th>{1: {}, 2: {'group1'}, 3: {}}</th>\n",
       "      <td>64186</td>\n",
       "    </tr>\n",
       "    <tr>\n",
       "      <th>{1: {}, 2: {'group2'}, 3: {'group1'}}</th>\n",
       "      <td>26729</td>\n",
       "    </tr>\n",
       "    <tr>\n",
       "      <th>{1: {}, 2: {'group2'}, 3: {}}</th>\n",
       "      <td>57057</td>\n",
       "    </tr>\n",
       "    <tr>\n",
       "      <th>{1: {}, 2: {}, 3: {'group1'}}</th>\n",
       "      <td>72883</td>\n",
       "    </tr>\n",
       "    <tr>\n",
       "      <th>{1: {}, 2: {}, 3: {'group2'}}</th>\n",
       "      <td>60324</td>\n",
       "    </tr>\n",
       "    <tr>\n",
       "      <th>{1: {}, 2: {}, 3: {}}</th>\n",
       "      <td>548251</td>\n",
       "    </tr>\n",
       "    <tr>\n",
       "      <th>{}</th>\n",
       "      <td>100066</td>\n",
       "    </tr>\n",
       "  </tbody>\n",
       "</table>\n",
       "</div>"
      ],
      "text/plain": [
       "                                       base_group\n",
       "experiments                                      \n",
       "{1: {'group1'}, 2: {'group1'}, 3: {}}        2953\n",
       "{1: {'group1'}, 2: {'group2'}, 3: {}}         992\n",
       "{1: {'group1'}, 2: {}, 3: {}}                5963\n",
       "{1: {'group2'}, 2: {'group1'}, 3: {}}        2974\n",
       "{1: {'group2'}, 2: {'group2'}, 3: {}}        1001\n",
       "{1: {'group2'}, 2: {}, 3: {}}                6038\n",
       "{1: {'group3'}, 2: {'group1'}, 3: {}}        3042\n",
       "{1: {'group3'}, 2: {'group2'}, 3: {}}        1002\n",
       "{1: {'group3'}, 2: {}, 3: {}}                6035\n",
       "{1: {}, 2: {'group1'}, 3: {'group2'}}       40064\n",
       "{1: {}, 2: {'group1'}, 3: {}}               64186\n",
       "{1: {}, 2: {'group2'}, 3: {'group1'}}       26729\n",
       "{1: {}, 2: {'group2'}, 3: {}}               57057\n",
       "{1: {}, 2: {}, 3: {'group1'}}               72883\n",
       "{1: {}, 2: {}, 3: {'group2'}}               60324\n",
       "{1: {}, 2: {}, 3: {}}                      548251\n",
       "{}                                         100066"
      ]
     },
     "execution_count": 391,
     "metadata": {},
     "output_type": "execute_result"
    }
   ],
   "source": [
    "df.groupby('experiments').count()"
   ]
  },
  {
   "cell_type": "code",
   "execution_count": null,
   "id": "27c519a5-2e83-4aa6-89c2-94ec05b1f59c",
   "metadata": {},
   "outputs": [
    {
     "data": {
      "text/plain": [
       "{1: {'base_group': 1, 'experiments': {}},\n",
       " 770810486: {'base_group': 86, 'experiments': {1: {}, 2: {}, 3: {}}},\n",
       " 450941023: {'base_group': 23, 'experiments': {1: {}, 2: {}, 3: {'group2'}}},\n",
       " 345323963: {'base_group': 63, 'experiments': {1: {}, 2: {}, 3: {}}},\n",
       " 87119338: {'base_group': 38,\n",
       "  'experiments': {1: {}, 2: {'group2'}, 3: {'group1'}}},\n",
       " 41464514: {'base_group': 14, 'experiments': {1: {}, 2: {}, 3: {}}},\n",
       " 913374659: {'base_group': 59, 'experiments': {1: {}, 2: {}, 3: {}}},\n",
       " 808820665: {'base_group': 65, 'experiments': {1: {}, 2: {}, 3: {'group2'}}},\n",
       " 29630827: {'base_group': 27, 'experiments': {1: {}, 2: {'group1'}, 3: {}}},\n",
       " 579741167: {'base_group': 67, 'experiments': {1: {}, 2: {}, 3: {}}},\n",
       " 193911606: {'base_group': 6, 'experiments': {}},\n",
       " 224738424: {'base_group': 24, 'experiments': {1: {}, 2: {}, 3: {'group1'}}},\n",
       " 365523265: {'base_group': 65, 'experiments': {1: {}, 2: {}, 3: {'group2'}}},\n",
       " 909450149: {'base_group': 49, 'experiments': {1: {}, 2: {}, 3: {}}},\n",
       " 524752856: {'base_group': 56, 'experiments': {1: {}, 2: {'group2'}, 3: {}}},\n",
       " 489235304: {'base_group': 4, 'experiments': {}},\n",
       " 739255648: {'base_group': 48,\n",
       "  'experiments': {1: {}, 2: {'group2'}, 3: {'group1'}}},\n",
       " 116456830: {'base_group': 30, 'experiments': {1: {}, 2: {}, 3: {}}},\n",
       " 182421124: {'base_group': 24, 'experiments': {1: {}, 2: {}, 3: {'group1'}}},\n",
       " 756801609: {'base_group': 9, 'experiments': {}},\n",
       " 141193024: {'base_group': 24, 'experiments': {1: {}, 2: {}, 3: {'group1'}}},\n",
       " 558421372: {'base_group': 72,\n",
       "  'experiments': {1: {}, 2: {'group2'}, 3: {'group1'}}},\n",
       " 89462162: {'base_group': 62, 'experiments': {1: {}, 2: {}, 3: {'group1'}}},\n",
       " 390456282: {'base_group': 82, 'experiments': {1: {}, 2: {}, 3: {}}},\n",
       " 854349671: {'base_group': 71,\n",
       " ...}"
      ]
     },
     "execution_count": 406,
     "metadata": {},
     "output_type": "execute_result"
    }
   ],
   "source": [
    "ss.cash_ids"
   ]
  },
  {
   "cell_type": "code",
   "execution_count": null,
   "id": "efbe2532-f96e-4fe6-9d8d-93374d91b8ee",
   "metadata": {},
   "outputs": [],
   "source": []
  }
 ],
 "metadata": {
  "kernelspec": {
   "display_name": "Python 3 (ipykernel)",
   "language": "python",
   "name": "python3"
  },
  "language_info": {
   "codemirror_mode": {
    "name": "ipython",
    "version": 3
   },
   "file_extension": ".py",
   "mimetype": "text/x-python",
   "name": "python",
   "nbconvert_exporter": "python",
   "pygments_lexer": "ipython3",
   "version": "3.8.10"
  }
 },
 "nbformat": 4,
 "nbformat_minor": 5
}
